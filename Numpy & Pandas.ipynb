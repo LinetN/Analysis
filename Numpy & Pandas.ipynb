{
 "cells": [
  {
   "cell_type": "markdown",
   "metadata": {},
   "source": [
    "## Week 2 In-class Activity"
   ]
  },
  {
   "cell_type": "code",
   "execution_count": 8,
   "metadata": {},
   "outputs": [],
   "source": [
    "import numpy as np"
   ]
  },
  {
   "cell_type": "markdown",
   "metadata": {},
   "source": [
    "1. Create an array with your team members birthdays such that each team member is a row with the month in the first spot, date in the second spot, last two year digits in the third spot. For example, a birthday of November 15 1986 would look like [11,15,86]. Take the square root of this array."
   ]
  },
  {
   "cell_type": "code",
   "execution_count": 10,
   "metadata": {},
   "outputs": [
    {
     "name": "stdout",
     "output_type": "stream",
     "text": [
      "[[9, 16, 82], [3, 5, 22], [11, 4, 10], [6, 25, 11]]\n"
     ]
    },
    {
     "data": {
      "text/plain": [
       "array([[3.        , 4.        , 9.05538514],\n",
       "       [1.73205081, 2.23606798, 4.69041576],\n",
       "       [3.31662479, 2.        , 3.16227766],\n",
       "       [2.44948974, 5.        , 3.31662479]])"
      ]
     },
     "execution_count": 10,
     "metadata": {},
     "output_type": "execute_result"
    }
   ],
   "source": [
    "a = [[9,16,82],[3,5,22],[11,4,10],[6,25,11]]\n",
    "print(a)\n",
    "np.sqrt(a)"
   ]
  },
  {
   "cell_type": "markdown",
   "metadata": {},
   "source": [
    "2. Create a second arry with your each team members lucky number, number of pets, number of siblings. For example, my lucky number is 14, I have 2 pets, and 1 sibling so my row would be [14,2,1]. Find the mean of the new array."
   ]
  },
  {
   "cell_type": "code",
   "execution_count": 12,
   "metadata": {},
   "outputs": [
    {
     "data": {
      "text/plain": [
       "7.666666666666667"
      ]
     },
     "execution_count": 12,
     "metadata": {},
     "output_type": "execute_result"
    }
   ],
   "source": [
    "b = [[4,2,6],[2,5,9],[6,7,9],[10,7,25]]\n",
    "np.mean(b)"
   ]
  },
  {
   "cell_type": "markdown",
   "metadata": {},
   "source": [
    "3. Add your arrays from step 1 and step 2. Then subtract step 2 from step 1. "
   ]
  },
  {
   "cell_type": "code",
   "execution_count": 14,
   "metadata": {},
   "outputs": [
    {
     "name": "stdout",
     "output_type": "stream",
     "text": [
      "[[13 18 88]\n",
      " [ 5 10 31]\n",
      " [17 11 19]\n",
      " [16 32 36]]\n"
     ]
    }
   ],
   "source": [
    "added_array = np.add(a,b)\n",
    "print(added_array)"
   ]
  },
  {
   "cell_type": "code",
   "execution_count": 15,
   "metadata": {},
   "outputs": [
    {
     "name": "stdout",
     "output_type": "stream",
     "text": [
      "[[  5  14  76]\n",
      " [  1   0  13]\n",
      " [  5  -3   1]\n",
      " [ -4  18 -14]]\n"
     ]
    }
   ],
   "source": [
    "subtracted_array = np.subtract(a,b)\n",
    "print(subtracted_array)"
   ]
  },
  {
   "cell_type": "markdown",
   "metadata": {},
   "source": [
    "4.  Transpose your array from step two and find the average lucky number, number of pets, and number of sibling of your team members in one step."
   ]
  },
  {
   "cell_type": "code",
   "execution_count": 19,
   "metadata": {},
   "outputs": [
    {
     "name": "stdout",
     "output_type": "stream",
     "text": [
      "[[ 4  2  6 10]\n",
      " [ 2  5  7  7]\n",
      " [ 6  9  9 25]]\n"
     ]
    },
    {
     "data": {
      "text/plain": [
       "array([ 5.5 ,  5.25, 12.25])"
      ]
     },
     "execution_count": 19,
     "metadata": {},
     "output_type": "execute_result"
    }
   ],
   "source": [
    "##https://panjeh.medium.com/how-to-get-average-of-rows-columns-in-a-numpy-array-8f305dd92624\n",
    "t= np.transpose(b)\n",
    "print(t)\n",
    "np.mean(t, axis =1)"
   ]
  },
  {
   "cell_type": "markdown",
   "metadata": {},
   "source": [
    "5. Concatenate your arrays from step 1 and step 2 so that each row represents data from a single team member. "
   ]
  },
  {
   "cell_type": "code",
   "execution_count": 21,
   "metadata": {},
   "outputs": [
    {
     "name": "stdout",
     "output_type": "stream",
     "text": [
      "[[ 9 16 82  4  2  6]\n",
      " [ 3  5 22  2  5  9]\n",
      " [11  4 10  6  7  9]\n",
      " [ 6 25 11 10  7 25]]\n"
     ]
    }
   ],
   "source": [
    "c= np.concatenate((a,b),axis=1)\n",
    "print(c)"
   ]
  },
  {
   "cell_type": "markdown",
   "metadata": {},
   "source": [
    "6. Jimmy and Delilah are my dogs. One day, my boyfriend and I were bored and decided to see how many piece of popcorn each dog could catch. Over the next 10 days, we would toss them 10 pieces a day and keep track of whether they caught them or not (caught=1, did not catch=0) PLEASE NOTE: no dogs were harmed during this experiment.\n",
    "\n",
    "Read in the dogs.xlsx data set. We always tossed to Jimmy first than Delilah. Each column is a toss. "
   ]
  },
  {
   "cell_type": "code",
   "execution_count": 22,
   "metadata": {},
   "outputs": [],
   "source": [
    "import pandas as pd"
   ]
  },
  {
   "cell_type": "code",
   "execution_count": 31,
   "metadata": {},
   "outputs": [
    {
     "name": "stdout",
     "output_type": "stream",
     "text": [
      "    0  1  2  3  4  5  6  7  8  9\n",
      "0   0  0  1  0  1  0  0  0  1  0\n",
      "1   0  1  1  1  1  1  0  0  1  0\n",
      "2   0  0  0  1  1  1  0  0  0  0\n",
      "3   0  1  0  0  0  0  1  1  0  1\n",
      "4   0  0  0  1  1  1  0  0  1  1\n",
      "5   0  0  0  1  0  0  1  1  0  0\n",
      "6   1  0  1  0  1  0  0  0  0  1\n",
      "7   1  0  0  0  0  0  0  0  0  0\n",
      "8   0  1  1  0  0  1  1  1  0  1\n",
      "9   1  1  1  1  1  0  1  0  1  1\n",
      "10  1  1  0  0  1  0  0  1  1  1\n",
      "11  1  1  1  1  0  1  1  0  1  1\n",
      "12  1  0  1  0  0  0  1  1  0  1\n",
      "13  0  0  0  1  1  1  1  1  0  0\n",
      "14  0  1  1  1  1  0  1  1  1  1\n",
      "15  1  0  0  0  0  1  1  0  0  1\n",
      "16  1  0  1  0  1  0  1  1  0  1\n",
      "17  0  0  1  0  0  1  0  1  1  1\n",
      "18  0  0  1  1  0  0  0  0  1  1\n",
      "19  1  0  1  0  0  0  1  0  0  1\n"
     ]
    }
   ],
   "source": [
    "dogs=pd.read_csv(r\"C:\\Users\\Linet Nabwire\\Desktop\\PyStat\\Programing for analytics\\Dogs.csv\",header=None)\n",
    "print(dogs)"
   ]
  },
  {
   "cell_type": "markdown",
   "metadata": {},
   "source": [
    "7. Reindex with the dogs names on the appropriate rows and the toss number as the column name."
   ]
  },
  {
   "cell_type": "code",
   "execution_count": 37,
   "metadata": {},
   "outputs": [
    {
     "name": "stdout",
     "output_type": "stream",
     "text": [
      "         Toss1  Toss2  Toss3  Toss4  Toss5  Toss6  Toss7  Toss8  Toss9  Toss10\n",
      "Jimmy        0      0      1      0      1      0      0      0      1       0\n",
      "Delilah      0      1      1      1      1      1      0      0      1       0\n",
      "Jimmy        0      0      0      1      1      1      0      0      0       0\n",
      "Delilah      0      1      0      0      0      0      1      1      0       1\n",
      "Jimmy        0      0      0      1      1      1      0      0      1       1\n",
      "Delilah      0      0      0      1      0      0      1      1      0       0\n",
      "Jimmy        1      0      1      0      1      0      0      0      0       1\n",
      "Delilah      1      0      0      0      0      0      0      0      0       0\n",
      "Jimmy        0      1      1      0      0      1      1      1      0       1\n",
      "Delilah      1      1      1      1      1      0      1      0      1       1\n",
      "Jimmy        1      1      0      0      1      0      0      1      1       1\n",
      "Delilah      1      1      1      1      0      1      1      0      1       1\n",
      "Jimmy        1      0      1      0      0      0      1      1      0       1\n",
      "Delilah      0      0      0      1      1      1      1      1      0       0\n",
      "Jimmy        0      1      1      1      1      0      1      1      1       1\n",
      "Delilah      1      0      0      0      0      1      1      0      0       1\n",
      "Jimmy        1      0      1      0      1      0      1      1      0       1\n",
      "Delilah      0      0      1      0      0      1      0      1      1       1\n",
      "Jimmy        0      0      1      1      0      0      0      0      1       1\n",
      "Delilah      1      0      1      0      0      0      1      0      0       1\n"
     ]
    }
   ],
   "source": [
    "dogs.columns=['Toss1','Toss2','Toss3','Toss4','Toss5','Toss6','Toss7','Toss8','Toss9','Toss10']\n",
    "dogs.index =(['Jimmy','Delilah']*10)\n",
    "print(dogs)"
   ]
  },
  {
   "cell_type": "markdown",
   "metadata": {},
   "source": [
    "Answer the following questions using the dogs data set:\n",
    "\n",
    "8. How many times did Delilah catch the popcorn on the 3rd toss?"
   ]
  },
  {
   "cell_type": "code",
   "execution_count": 42,
   "metadata": {},
   "outputs": [
    {
     "data": {
      "text/plain": [
       "5"
      ]
     },
     "execution_count": 42,
     "metadata": {},
     "output_type": "execute_result"
    }
   ],
   "source": [
    "sum(dogs['Toss3']['Delilah'])"
   ]
  },
  {
   "cell_type": "markdown",
   "metadata": {},
   "source": [
    "9. Sum the number of catches for each day for Jimmy. Does it seems like Jimmy got better at catching popcorn over time? *NOTE: you do not have to do a statistical test, but you do need to justify why you think this may be the case."
   ]
  },
  {
   "cell_type": "code",
   "execution_count": 47,
   "metadata": {},
   "outputs": [
    {
     "data": {
      "text/plain": [
       "Toss1     4\n",
       "Toss2     3\n",
       "Toss3     7\n",
       "Toss4     4\n",
       "Toss5     7\n",
       "Toss6     3\n",
       "Toss7     4\n",
       "Toss8     5\n",
       "Toss9     5\n",
       "Toss10    8\n",
       "dtype: int64"
      ]
     },
     "execution_count": 47,
     "metadata": {},
     "output_type": "execute_result"
    }
   ],
   "source": [
    "toss_sum=dogs[dogs.index=='Jimmy'].sum()\n",
    "toss_sum"
   ]
  },
  {
   "cell_type": "code",
   "execution_count": 55,
   "metadata": {},
   "outputs": [
    {
     "data": {
      "text/plain": [
       "Toss1     4\n",
       "Toss2     3\n",
       "Toss3     7\n",
       "Toss4     4\n",
       "Toss5     7\n",
       "Toss6     3\n",
       "Toss7     4\n",
       "Toss8     5\n",
       "Toss9     5\n",
       "Toss10    8\n",
       "dtype: int64"
      ]
     },
     "execution_count": 55,
     "metadata": {},
     "output_type": "execute_result"
    }
   ],
   "source": [
    "dogs.loc['Jimmy'].sum()"
   ]
  },
  {
   "cell_type": "markdown",
   "metadata": {},
   "source": [
    "10. Which dog caught more popcorn over all of the days?"
   ]
  },
  {
   "cell_type": "code",
   "execution_count": 52,
   "metadata": {},
   "outputs": [
    {
     "data": {
      "text/plain": [
       "50"
      ]
     },
     "execution_count": 52,
     "metadata": {},
     "output_type": "execute_result"
    }
   ],
   "source": [
    "totaljimmysum =toss_sum.sum()\n",
    "totaljimmysum"
   ]
  },
  {
   "cell_type": "code",
   "execution_count": 53,
   "metadata": {},
   "outputs": [
    {
     "data": {
      "text/plain": [
       "48"
      ]
     },
     "execution_count": 53,
     "metadata": {},
     "output_type": "execute_result"
    }
   ],
   "source": [
    "dog2sum=(dogs[dogs.index=='Delilah'].sum()).sum()\n",
    "dog2sum"
   ]
  },
  {
   "cell_type": "code",
   "execution_count": null,
   "metadata": {},
   "outputs": [],
   "source": []
  },
  {
   "cell_type": "code",
   "execution_count": 51,
   "metadata": {},
   "outputs": [
    {
     "name": "stdout",
     "output_type": "stream",
     "text": [
      "Jimmy\n"
     ]
    }
   ],
   "source": [
    "if totraljimmysum>dog2sum:\n",
    "    print('Jimmy')\n",
    "else:\n",
    "    print('dog2')"
   ]
  },
  {
   "cell_type": "code",
   "execution_count": null,
   "metadata": {},
   "outputs": [],
   "source": []
  }
 ],
 "metadata": {
  "kernelspec": {
   "display_name": "Python 3",
   "language": "python",
   "name": "python3"
  },
  "language_info": {
   "codemirror_mode": {
    "name": "ipython",
    "version": 3
   },
   "file_extension": ".py",
   "mimetype": "text/x-python",
   "name": "python",
   "nbconvert_exporter": "python",
   "pygments_lexer": "ipython3",
   "version": "3.7.6"
  }
 },
 "nbformat": 4,
 "nbformat_minor": 5
}
